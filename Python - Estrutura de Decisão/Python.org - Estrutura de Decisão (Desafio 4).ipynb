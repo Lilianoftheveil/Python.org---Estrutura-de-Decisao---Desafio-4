{
 "cells": [
  {
   "cell_type": "code",
   "execution_count": null,
   "id": "f704985c",
   "metadata": {},
   "outputs": [],
   "source": [
    "Python - Lista de Exercícios (Estrutura de Decisão) \n",
    "link: https://wiki.python.org.br/EstruturaDeDecisao"
   ]
  },
  {
   "cell_type": "markdown",
   "id": "f36f0365",
   "metadata": {},
   "source": [
    "4) Faça um Programa que verifique se uma letra digitada é vogal ou consoante."
   ]
  },
  {
   "cell_type": "code",
   "execution_count": null,
   "id": "291025e7",
   "metadata": {},
   "outputs": [],
   "source": [
    "Obs.: Visando desenvolver o programa de forma mais dinâmica e menos suscetível a erros, adicionei \n",
    "outras estruturas no corpo do código. De modo que se o usuário digitar mais de uma letra o laço\n",
    "se repita, assim como se o mesmo digitar um caractere que não seja uma letra do alfabeto. "
   ]
  },
  {
   "cell_type": "code",
   "execution_count": null,
   "id": "eb6d47b6",
   "metadata": {},
   "outputs": [],
   "source": [
    "v = [\"A\", \"E\", \"I\", \"O\", \"U\"]\n",
    "c = [\"B\", \"C\", \"D\", \"F\", \"G\", \"J\", \"K\", \"L\", \"M\", \"N\", \"P\", \"Q\", \"R\", \"S\", \"T\", \"V\", \"W\", \"X\", \"Y\", \"Z\"]\n",
    "d = [\"H\"]\n",
    "\n",
    "while True:\n",
    "  x = input(\"Digite uma letra: \").upper()\n",
    "  if len(x) > 1:\n",
    "    print(\"Por favor, digite apenas uma letra.\")\n",
    "    continue \n",
    "  elif x in v:\n",
    "    print(\"A letra digitada é uma vogal.\")\n",
    "    break\n",
    "  elif x in c:\n",
    "    print(\"A letra digitada é uma consoante.\")\n",
    "    break\n",
    "  elif x in d:\n",
    "    print(\"H é uma letra diacrítica. Não sendo nem consoante nem vogal.\")\n",
    "    break\n",
    "  else:\n",
    "    print(\"Por favor, digite apenas letras.\")"
   ]
  }
 ],
 "metadata": {
  "kernelspec": {
   "display_name": "Python 3 (ipykernel)",
   "language": "python",
   "name": "python3"
  },
  "language_info": {
   "codemirror_mode": {
    "name": "ipython",
    "version": 3
   },
   "file_extension": ".py",
   "mimetype": "text/x-python",
   "name": "python",
   "nbconvert_exporter": "python",
   "pygments_lexer": "ipython3",
   "version": "3.8.10"
  }
 },
 "nbformat": 4,
 "nbformat_minor": 5
}
